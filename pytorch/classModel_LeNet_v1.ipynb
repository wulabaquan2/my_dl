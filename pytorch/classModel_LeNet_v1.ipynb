{
 "cells": [
  {
   "cell_type": "markdown",
   "metadata": {},
   "source": [
    "### 简介\n",
    "用不带relu的LeNet模型训练fashionMNIST数据集"
   ]
  },
  {
   "cell_type": "code",
   "execution_count": 7,
   "metadata": {},
   "outputs": [],
   "source": [
    "import torch\n",
    "import pytorch_lightning as pl\n",
    "from torchvision.datasets import FashionMNIST\n",
    "from torchvision import transforms"
   ]
  },
  {
   "cell_type": "markdown",
   "metadata": {},
   "source": [
    "### 数据集加载"
   ]
  },
  {
   "cell_type": "code",
   "execution_count": 8,
   "metadata": {},
   "outputs": [],
   "source": [
    "\n",
    "class DataConfiguration:\n",
    "    def __init__(self, batch_size, num_workers, pin_memory):\n",
    "        self.batch_size = batch_size\n",
    "        self.num_workers = num_workers\n",
    "        self.pin_memory = pin_memory    # True if GPU is available\n",
    "\n",
    "class LitLoadData_FashionMNist(pl.LightningDataModule):\n",
    "    def __init__(self, data_config):\n",
    "        super().__init__()\n",
    "        self.data_config = data_config\n",
    "\n",
    "    def prepare_data(self):\n",
    "        # Download the FashionMNIST dataset if not already downloaded\n",
    "        FashionMNIST(root=\"../data\", train=True, download=True)\n",
    "        FashionMNIST(root=\"../data\", train=False, download=True)\n",
    "\n",
    "    def setup(self, stage=None):\n",
    "        # Transformations to apply to the data\n",
    "        transform = transforms.Compose([\n",
    "            transforms.ToTensor(),\n",
    "            transforms.Normalize((0.5,), (0.5,))    # Normalize the data to the range [-1, 1] 标准化式子: (x - 0.5) / 0.5\n",
    "        ])\n",
    "\n",
    "        # Load the FashionMNIST dataset\n",
    "        self.train_dataset = FashionMNIST(root=\"../data\", train=True, transform=transform)\n",
    "        self.val_dataset = FashionMNIST(root=\"../data\", train=False, transform=transform)\n",
    "\n",
    "    def train_dataloader(self):\n",
    "        return torch.utils.data.DataLoader(\n",
    "            self.train_dataset,\n",
    "            batch_size=self.data_config.batch_size,\n",
    "            num_workers=self.data_config.num_workers,\n",
    "            pin_memory=self.data_config.pin_memory,\n",
    "            persistent_workers=True,\n",
    "            shuffle=True\n",
    "        )\n",
    "\n",
    "    def val_dataloader(self):\n",
    "        return torch.utils.data.DataLoader(\n",
    "            self.val_dataset,\n",
    "            batch_size=self.data_config.batch_size,\n",
    "            num_workers=self.data_config.num_workers,\n",
    "            pin_memory=self.data_config.pin_memory,\n",
    "            persistent_workers=True,\n",
    "            shuffle=False\n",
    "        )\n"
   ]
  },
  {
   "cell_type": "markdown",
   "metadata": {},
   "source": [
    "### 模型定义"
   ]
  },
  {
   "cell_type": "code",
   "execution_count": 24,
   "metadata": {},
   "outputs": [],
   "source": [
    "class TrainingConfiguration:\n",
    "    lr: float=0.001\n",
    "    optimizer: str=\"SGD\"\n",
    "    def __init__(self, lr, optimizer):\n",
    "        self.lr = lr\n",
    "        self.optimizer = optimizer\n",
    "\n",
    "class LitLeNetModel(pl.LightningModule):\n",
    "    def __init__(self,training_config):\n",
    "        super().__init__()\n",
    "        self.training_config = training_config\n",
    "        self.conv1 = torch.nn.Conv2d(1, 6, kernel_size=5, padding=2)  #size: 1*28*28 -> 6*28*28\n",
    "        self.conv2 = torch.nn.Conv2d(6, 16, kernel_size=5, padding=0)  #size: 6*14*14 -> 16*10*10\n",
    "        self.fc1 = torch.nn.Linear(16*5*5, 120)\n",
    "        self.fc2 = torch.nn.Linear(120, 84)\n",
    "        self.fc3 = torch.nn.Linear(84, 10)\n",
    "\n",
    "    def forward(self, x):\n",
    "        x = torch.nn.functional.max_pool2d(self.conv1(x), kernel_size=2, stride=2)\n",
    "        x = torch.nn.functional.max_pool2d(self.conv2(x), kernel_size=2, stride=2)\n",
    "        x = x.view(x.size(0), -1) # Flatten the tensor\n",
    "        #todo: 用一个linear层代替\n",
    "        x = self.fc1(x)\n",
    "        x = self.fc2(x)\n",
    "        x = self.fc3(x) # No activation function as it is included in the cross-entropy\n",
    "        return x\n",
    "\n",
    "    def training_step(self, batch, batch_idx):\n",
    "        x, y = batch\n",
    "        y_hat = self(x)\n",
    "        loss = torch.nn.functional.cross_entropy(y_hat, y)\n",
    "        #on_epoch=True: tensorboard有step和epoch两条曲线\n",
    "        self.log(\"train_loss\", loss, prog_bar=True, logger=True, on_epoch=True), \n",
    "        self.log(\"train_acc\", torch.sum(y == torch.argmax(y_hat, dim=1)).item() / len(y), prog_bar=True, logger=True,on_epoch=True)\n",
    "        return loss\n",
    "\n",
    "    def validation_step(self, batch, batch_idx):\n",
    "        x, y = batch\n",
    "        y_hat = self(x)\n",
    "        loss = torch.nn.functional.cross_entropy(y_hat, y)\n",
    "        #与training_step不同,tensorboard是epoch曲线\n",
    "        self.log(\"val_loss\", loss, prog_bar=True, logger=True)\n",
    "        self.log(\"val_acc\", torch.sum(y == torch.argmax(y_hat, dim=1)).item() / len(y), prog_bar=True, logger=True)\n",
    "\n",
    "    def configure_optimizers(self):\n",
    "        if self.training_config.optimizer == \"SGD\":\n",
    "            optimizer = torch.optim.SGD(self.parameters(), lr=self.training_config.lr)\n",
    "        elif self.training_config.optimizer == \"Adam\":\n",
    "            optimizer = torch.optim.Adam(self.parameters(), lr=self.training_config.lr)\n",
    "        else:\n",
    "            raise ValueError(\"Undefined optimizer\")\n",
    "        return optimizer\n"
   ]
  },
  {
   "cell_type": "markdown",
   "metadata": {},
   "source": [
    "### 工作流程"
   ]
  },
  {
   "cell_type": "code",
   "execution_count": 26,
   "metadata": {},
   "outputs": [
    {
     "name": "stderr",
     "output_type": "stream",
     "text": [
      "GPU available: True (cuda), used: True\n",
      "TPU available: False, using: 0 TPU cores\n",
      "HPU available: False, using: 0 HPUs\n",
      "LOCAL_RANK: 0 - CUDA_VISIBLE_DEVICES: [0]\n",
      "\n",
      "  | Name  | Type   | Params | Mode \n",
      "-----------------------------------------\n",
      "0 | conv1 | Conv2d | 156    | train\n",
      "1 | conv2 | Conv2d | 2.4 K  | train\n",
      "2 | fc1   | Linear | 48.1 K | train\n",
      "3 | fc2   | Linear | 10.2 K | train\n",
      "4 | fc3   | Linear | 850    | train\n",
      "-----------------------------------------\n",
      "61.7 K    Trainable params\n",
      "0         Non-trainable params\n",
      "61.7 K    Total params\n",
      "0.247     Total estimated model params size (MB)\n",
      "5         Modules in train mode\n",
      "0         Modules in eval mode\n"
     ]
    },
    {
     "name": "stdout",
     "output_type": "stream",
     "text": [
      "Epoch 9: 100%|██████████| 1875/1875 [00:20<00:00, 93.74it/s, v_num=0, train_loss_step=0.147, train_acc_step=0.906, val_loss=0.341, val_acc=0.879, train_loss_epoch=0.287, train_acc_epoch=0.897]  "
     ]
    },
    {
     "name": "stderr",
     "output_type": "stream",
     "text": [
      "`Trainer.fit` stopped: `max_epochs=10` reached.\n"
     ]
    },
    {
     "name": "stdout",
     "output_type": "stream",
     "text": [
      "Epoch 9: 100%|██████████| 1875/1875 [00:20<00:00, 93.52it/s, v_num=0, train_loss_step=0.147, train_acc_step=0.906, val_loss=0.341, val_acc=0.879, train_loss_epoch=0.287, train_acc_epoch=0.897]\n"
     ]
    }
   ],
   "source": [
    "class TrainerConfiguration:\n",
    "    max_epochs: int \n",
    "    def __init__(self, max_epochs):\n",
    "        self.max_epochs = max_epochs\n",
    "\n",
    "if __name__ == '__main__': \n",
    "    data_config = DataConfiguration(batch_size=32, num_workers=2, pin_memory=torch.cuda.is_available())\n",
    "    training_config = TrainingConfiguration(lr=0.09, optimizer=\"SGD\") #lr=0.9时梯度爆炸,loss为nan\n",
    "    trainer_config = TrainerConfiguration(max_epochs=10)\n",
    "\n",
    "    model = LitLeNetModel(training_config)\n",
    "    data = LitLoadData_FashionMNist(data_config)\n",
    "\n",
    "    #add tensorboardLogger\n",
    "    tb_logger=pl.loggers.TensorBoardLogger('tensorBoard-logs/',name='classModel_Lenet_v1',default_hp_metric=False)\n",
    "    \n",
    "    #add modelcheckpoint\n",
    "    #filename前缀与当前py文件同名,后缀为epoch和val_loss\n",
    "    checkpoint_callback=pl.callbacks.ModelCheckpoint(\n",
    "        monitor='val_loss',\n",
    "        dirpath='checkPoint-logs/classModel_Lenet_v1',\n",
    "        filename='classModel_Lenet_v1-{epoch:02d}-{val_loss:.2f}',\n",
    "        save_top_k=3, # save the top 3 models\n",
    "        mode='min', \n",
    "\n",
    "    )\n",
    "\n",
    "    trainer=pl.Trainer(\n",
    "        max_epochs=trainer_config.max_epochs, \n",
    "        logger=tb_logger, \n",
    "        callbacks=[checkpoint_callback],\n",
    "        accelerator='gpu',\n",
    "        enable_model_summary=True \n",
    "        )\n",
    "    \n",
    "    trainer.fit(model, data)"
   ]
  },
  {
   "cell_type": "code",
   "execution_count": null,
   "metadata": {},
   "outputs": [],
   "source": [
    "#tensorboard --logdir pytorch/tensorBoard-logs/ --port 6006 #event找不到时先确认log目录在终端的相对路径"
   ]
  }
 ],
 "metadata": {
  "kernelspec": {
   "display_name": "pytorch_python3128",
   "language": "python",
   "name": "python3"
  },
  "language_info": {
   "codemirror_mode": {
    "name": "ipython",
    "version": 3
   },
   "file_extension": ".py",
   "mimetype": "text/x-python",
   "name": "python",
   "nbconvert_exporter": "python",
   "pygments_lexer": "ipython3",
   "version": "3.12.8"
  }
 },
 "nbformat": 4,
 "nbformat_minor": 2
}
