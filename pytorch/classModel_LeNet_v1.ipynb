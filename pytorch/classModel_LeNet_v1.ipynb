{
 "cells": [
  {
   "cell_type": "markdown",
   "metadata": {},
   "source": [
    "### 简介\n",
    "用不带relu的LeNet模型训练fashionMNIST数据集"
   ]
  },
  {
   "cell_type": "code",
   "execution_count": 7,
   "metadata": {},
   "outputs": [],
   "source": [
    "import torch\n",
    "import pytorch_lightning as pl\n",
    "from torchvision.datasets import FashionMNIST\n",
    "from torchvision import transforms"
   ]
  },
  {
   "cell_type": "markdown",
   "metadata": {},
   "source": [
    "### 数据集加载"
   ]
  },
  {
   "cell_type": "code",
   "execution_count": 8,
   "metadata": {},
   "outputs": [],
   "source": [
    "\n",
    "class DataConfiguration:\n",
    "    def __init__(self, batch_size, num_workers, pin_memory):\n",
    "        self.batch_size = batch_size\n",
    "        self.num_workers = num_workers\n",
    "        self.pin_memory = pin_memory    # True if GPU is available\n",
    "\n",
    "class LitLoadData_FashionMNist(pl.LightningDataModule):\n",
    "    def __init__(self, data_config):\n",
    "        super().__init__()\n",
    "        self.data_config = data_config\n",
    "\n",
    "    def prepare_data(self):\n",
    "        # Download the FashionMNIST dataset if not already downloaded\n",
    "        FashionMNIST(root=\"../data\", train=True, download=True)\n",
    "        FashionMNIST(root=\"../data\", train=False, download=True)\n",
    "\n",
    "    def setup(self, stage=None):\n",
    "        # Transformations to apply to the data\n",
    "        transform = transforms.Compose([\n",
    "            transforms.ToTensor(),\n",
    "            transforms.Normalize((0.5,), (0.5,))    # Normalize the data to the range [-1, 1] 标准化式子: (x - 0.5) / 0.5\n",
    "        ])\n",
    "\n",
    "        # Load the FashionMNIST dataset\n",
    "        self.train_dataset = FashionMNIST(root=\"../data\", train=True, transform=transform)\n",
    "        self.val_dataset = FashionMNIST(root=\"../data\", train=False, transform=transform)\n",
    "\n",
    "    def train_dataloader(self):\n",
    "        return torch.utils.data.DataLoader(\n",
    "            self.train_dataset,\n",
    "            batch_size=self.data_config.batch_size,\n",
    "            num_workers=self.data_config.num_workers,\n",
    "            pin_memory=self.data_config.pin_memory,\n",
    "            persistent_workers=True,\n",
    "            shuffle=True\n",
    "        )\n",
    "\n",
    "    def val_dataloader(self):\n",
    "        return torch.utils.data.DataLoader(\n",
    "            self.val_dataset,\n",
    "            batch_size=self.data_config.batch_size,\n",
    "            num_workers=self.data_config.num_workers,\n",
    "            pin_memory=self.data_config.pin_memory,\n",
    "            persistent_workers=True,\n",
    "            shuffle=False\n",
    "        )\n"
   ]
  },
  {
   "cell_type": "markdown",
   "metadata": {},
   "source": [
    "### 模型定义"
   ]
  },
  {
   "cell_type": "code",
   "execution_count": 24,
   "metadata": {},
   "outputs": [],
   "source": [
    "class TrainingConfiguration:\n",
    "    lr: float=0.001\n",
    "    optimizer: str=\"SGD\"\n",
    "    def __init__(self, lr, optimizer):\n",
    "        self.lr = lr\n",
    "        self.optimizer = optimizer\n",
    "\n",
    "class LitLeNetModel(pl.LightningModule):\n",
    "    def __init__(self,training_config):\n",
    "        super().__init__()\n",
    "        self.training_config = training_config\n",
    "        self.conv1 = torch.nn.Conv2d(1, 6, kernel_size=5, padding=2)  #size: 1*28*28 -> 6*28*28\n",
    "        self.conv2 = torch.nn.Conv2d(6, 16, kernel_size=5, padding=0)  #size: 6*14*14 -> 16*10*10\n",
    "        self.fc1 = torch.nn.Linear(16*5*5, 120)\n",
    "        self.fc2 = torch.nn.Linear(120, 84)\n",
    "        self.fc3 = torch.nn.Linear(84, 10)\n",
    "\n",
    "    def forward(self, x):\n",
    "        x = torch.nn.functional.max_pool2d(self.conv1(x), kernel_size=2, stride=2)\n",
    "        x = torch.nn.functional.max_pool2d(self.conv2(x), kernel_size=2, stride=2)\n",
    "        x = x.view(x.size(0), -1) # Flatten the tensor\n",
    "        #todo: 用一个linear层代替\n",
    "        x = self.fc1(x)\n",
    "        x = self.fc2(x)\n",
    "        x = self.fc3(x) # No activation function as it is included in the cross-entropy\n",
    "        return x\n",
    "\n",
    "    def training_step(self, batch, batch_idx):\n",
    "        x, y = batch\n",
    "        y_hat = self(x)\n",
    "        loss = torch.nn.functional.cross_entropy(y_hat, y)\n",
    "        #on_epoch=True: tensorboard有step和epoch两条曲线\n",
    "        self.log(\"train_loss\", loss, prog_bar=True, logger=True, on_epoch=True), \n",
    "        self.log(\"train_acc\", torch.sum(y == torch.argmax(y_hat, dim=1)).item() / len(y), prog_bar=True, logger=True,on_epoch=True)\n",
    "        return loss\n",
    "\n",
    "    def validation_step(self, batch, batch_idx):\n",
    "        x, y = batch\n",
    "        y_hat = self(x)\n",
    "        loss = torch.nn.functional.cross_entropy(y_hat, y)\n",
    "        #与training_step不同,tensorboard是epoch曲线\n",
    "        self.log(\"val_loss\", loss, prog_bar=True, logger=True)\n",
    "        self.log(\"val_acc\", torch.sum(y == torch.argmax(y_hat, dim=1)).item() / len(y), prog_bar=True, logger=True)\n",
    "\n",
    "    def configure_optimizers(self):\n",
    "        if self.training_config.optimizer == \"SGD\":\n",
    "            optimizer = torch.optim.SGD(self.parameters(), lr=self.training_config.lr)\n",
    "        elif self.training_config.optimizer == \"Adam\":\n",
    "            optimizer = torch.optim.Adam(self.parameters(), lr=self.training_config.lr)\n",
    "        else:\n",
    "            raise ValueError(\"Undefined optimizer\")\n",
    "        return optimizer\n"
   ]
  },
  {
   "cell_type": "markdown",
   "metadata": {},
   "source": [
    "### 工作流程"
   ]
  },
  {
   "cell_type": "code",
   "execution_count": 26,
   "metadata": {},
   "outputs": [
    {
     "name": "stderr",
     "output_type": "stream",
     "text": [
      "GPU available: True (cuda), used: True\n",
      "TPU available: False, using: 0 TPU cores\n",
      "HPU available: False, using: 0 HPUs\n",
      "LOCAL_RANK: 0 - CUDA_VISIBLE_DEVICES: [0]\n",
      "\n",
      "  | Name  | Type   | Params | Mode \n",
      "-----------------------------------------\n",
      "0 | conv1 | Conv2d | 156    | train\n",
      "1 | conv2 | Conv2d | 2.4 K  | train\n",
      "2 | fc1   | Linear | 48.1 K | train\n",
      "3 | fc2   | Linear | 10.2 K | train\n",
      "4 | fc3   | Linear | 850    | train\n",
      "-----------------------------------------\n",
      "61.7 K    Trainable params\n",
      "0         Non-trainable params\n",
      "61.7 K    Total params\n",
      "0.247     Total estimated model params size (MB)\n",
      "5         Modules in train mode\n",
      "0         Modules in eval mode\n"
     ]
    },
    {
     "name": "stdout",
     "output_type": "stream",
     "text": [
      "Epoch 9: 100%|██████████| 1875/1875 [00:20<00:00, 93.74it/s, v_num=0, train_loss_step=0.147, train_acc_step=0.906, val_loss=0.341, val_acc=0.879, train_loss_epoch=0.287, train_acc_epoch=0.897]  "
     ]
    },
    {
     "name": "stderr",
     "output_type": "stream",
     "text": [
      "`Trainer.fit` stopped: `max_epochs=10` reached.\n"
     ]
    },
    {
     "name": "stdout",
     "output_type": "stream",
     "text": [
      "Epoch 9: 100%|██████████| 1875/1875 [00:20<00:00, 93.52it/s, v_num=0, train_loss_step=0.147, train_acc_step=0.906, val_loss=0.341, val_acc=0.879, train_loss_epoch=0.287, train_acc_epoch=0.897]\n"
     ]
    }
   ],
   "source": [
    "class TrainerConfiguration:\n",
    "    max_epochs: int \n",
    "    def __init__(self, max_epochs):\n",
    "        self.max_epochs = max_epochs\n",
    "\n",
    "if __name__ == '__main__': \n",
    "    data_config = DataConfiguration(batch_size=32, num_workers=2, pin_memory=torch.cuda.is_available())\n",
    "    training_config = TrainingConfiguration(lr=0.09, optimizer=\"SGD\") #lr=0.9时梯度爆炸,loss为nan\n",
    "    trainer_config = TrainerConfiguration(max_epochs=10)\n",
    "\n",
    "    model = LitLeNetModel(training_config)\n",
    "    data = LitLoadData_FashionMNist(data_config)\n",
    "\n",
    "    #add tensorboardLogger\n",
    "    tb_logger=pl.loggers.TensorBoardLogger('tensorBoard-logs/',name='classModel_Lenet_v1',default_hp_metric=False)\n",
    "    \n",
    "    #add modelcheckpoint\n",
    "    #filename前缀与当前py文件同名,后缀为epoch和val_loss\n",
    "    checkpoint_callback=pl.callbacks.ModelCheckpoint(\n",
    "        monitor='val_loss',\n",
    "        dirpath='checkPoint-logs/classModel_Lenet_v1',\n",
    "        filename='classModel_Lenet_v1-{epoch:02d}-{val_loss:.2f}',\n",
    "        save_top_k=3, # save the top 3 models\n",
    "        mode='min', \n",
    "\n",
    "    )\n",
    "\n",
    "    trainer=pl.Trainer(\n",
    "        max_epochs=trainer_config.max_epochs, \n",
    "        logger=tb_logger, \n",
    "        callbacks=[checkpoint_callback],\n",
    "        accelerator='gpu',\n",
    "        enable_model_summary=True \n",
    "        )\n",
    "    \n",
    "    trainer.fit(model, data)"
   ]
  },
  {
   "cell_type": "code",
   "execution_count": null,
   "metadata": {},
   "outputs": [],
   "source": [
    "#tensorboard --logdir pytorch/tensorBoard-logs/ --port 6006 #event找不到时先确认log目录在终端的相对路径"
   ]
  },
  {
   "cell_type": "code",
   "execution_count": 5,
   "metadata": {},
   "outputs": [
    {
     "name": "stdout",
     "output_type": "stream",
     "text": [
      "The tensorboard extension is already loaded. To reload it, use:\n",
      "  %reload_ext tensorboard\n"
     ]
    }
   ],
   "source": [
    "%load_ext tensorboard"
   ]
  },
  {
   "cell_type": "code",
   "execution_count": 6,
   "metadata": {},
   "outputs": [
    {
     "data": {
      "text/plain": [
       "ERROR: Failed to launch TensorBoard (exited with 0).\n",
       "Contents of stderr:\n",
       "TensorFlow installation not found - running with reduced feature set.\n",
       "Contents of stdout:\n",
       "usage: tensorboard [-h] [--helpfull] [--logdir PATH] [--logdir_spec PATH_SPEC]\n",
       "                   [--host ADDR] [--bind_all] [--port PORT]\n",
       "                   [--reuse_port BOOL] [--load_fast {false,auto,true}]\n",
       "                   [--extra_data_server_flags EXTRA_DATA_SERVER_FLAGS]\n",
       "                   [--grpc_creds_type {local,ssl,ssl_dev}]\n",
       "                   [--grpc_data_provider PORT] [--purge_orphaned_data BOOL]\n",
       "                   [--db URI] [--db_import] [--inspect] [--version_tb]\n",
       "                   [--tag TAG] [--event_file PATH] [--path_prefix PATH]\n",
       "                   [--window_title TEXT] [--max_reload_threads COUNT]\n",
       "                   [--reload_interval SECONDS] [--reload_task TYPE]\n",
       "                   [--reload_multifile BOOL]\n",
       "                   [--reload_multifile_inactive_secs SECONDS]\n",
       "                   [--generic_data TYPE]\n",
       "                   [--samples_per_plugin SAMPLES_PER_PLUGIN]\n",
       "                   [--detect_file_replacement BOOL]\n",
       "                   [--master_tpu_unsecure_channel ADDR]\n",
       "                   {serve} ...\n",
       "\n",
       "TensorBoard is a suite of web applications for inspecting and understanding\n",
       "your TensorFlow runs and graphs. https://github.com/tensorflow/tensorboard\n",
       "\n",
       "positional arguments:\n",
       "  {serve}               TensorBoard subcommand (defaults to 'serve')\n",
       "    serve               start local TensorBoard server (default subcommand)\n",
       "\n",
       "options:\n",
       "  -h, --help            show this help message and exit\n",
       "  --helpfull            show full help message and exit\n",
       "  --logdir PATH         Directory where TensorBoard will look to find\n",
       "                        TensorFlow event files that it can display.\n",
       "                        TensorBoard will recursively walk the directory\n",
       "                        structure rooted at logdir, looking for .*tfevents.*\n",
       "                        files. A leading tilde will be expanded with the\n",
       "                        semantics of Python's os.expanduser function.\n",
       "  --logdir_spec PATH_SPEC\n",
       "                        Like `--logdir`, but with special interpretation for\n",
       "                        commas and colons: commas separate multiple runs,\n",
       "                        where a colon specifies a new name for a run. For\n",
       "                        example: `tensorboard --logdir_spec=name1:/path/to/log\n",
       "                        s/1,name2:/path/to/logs/2`. This flag is discouraged\n",
       "                        and can usually be avoided. TensorBoard walks log\n",
       "                        directories recursively; for finer-grained control,\n",
       "                        prefer using a symlink tree. Some features may not\n",
       "                        work when using `--logdir_spec` instead of `--logdir`.\n",
       "  --host ADDR           What host to listen to (default: localhost). To serve\n",
       "                        to the entire local network on both IPv4 and IPv6, see\n",
       "                        `--bind_all`, with which this option is mutually\n",
       "                        exclusive.\n",
       "  --bind_all            Serve on all public interfaces. This will expose your\n",
       "                        TensorBoard instance to the network on both IPv4 and\n",
       "                        IPv6 (where available). Mutually exclusive with\n",
       "                        `--host`.\n",
       "  --port PORT           Port to serve TensorBoard on. Pass 0 to request an\n",
       "                        unused port selected by the operating system, or pass\n",
       "                        \"default\" to try to bind to the default port (6006)\n",
       "                        but search for a nearby free port if the default port\n",
       "                        is unavailable. (default: \"default\").\n",
       "  --reuse_port BOOL     Enables the SO_REUSEPORT option on the socket opened\n",
       "                        by TensorBoard's HTTP server, for platforms that\n",
       "                        support it. This is useful in cases when a parent\n",
       "                        process has obtained the port already and wants to\n",
       "                        delegate access to the port to TensorBoard as a\n",
       "                        subprocess.(default: False).\n",
       "  --load_fast {false,auto,true}\n",
       "                        Use alternate mechanism to load data. Typically 100x\n",
       "                        faster or more, but only available on some platforms\n",
       "                        and invocations. Defaults to \"auto\" to use this new\n",
       "                        mode only if available, otherwise falling back to the\n",
       "                        legacy loading path. Set to \"true\" to suppress the\n",
       "                        advisory note and hard-fail if the fast codepath is\n",
       "                        not available. Set to \"false\" to always fall back.\n",
       "                        Feedback/issues:\n",
       "                        https://github.com/tensorflow/tensorboard/issues/4784\n",
       "                        (default: auto)\n",
       "  --extra_data_server_flags EXTRA_DATA_SERVER_FLAGS\n",
       "                        Experimental. With `--load_fast`, pass these\n",
       "                        additional command-line flags to the data server.\n",
       "                        Subject to POSIX word splitting per `shlex.split`.\n",
       "                        Meant for debugging; not officially supported.\n",
       "  --grpc_creds_type {local,ssl,ssl_dev}\n",
       "                        Experimental. The type of credentials to use to\n",
       "                        connect to the data server. (default: local)\n",
       "  --grpc_data_provider PORT\n",
       "                        Experimental. Address of a gRPC server exposing a data\n",
       "                        provider. Set to empty string to disable. (default: )\n",
       "  --purge_orphaned_data BOOL\n",
       "                        Whether to purge data that may have been orphaned due\n",
       "                        to TensorBoard restarts. Setting\n",
       "                        --purge_orphaned_data=False can be used to debug data\n",
       "                        disappearance. (default: True)\n",
       "  --db URI              [experimental] sets SQL database URI and enables DB\n",
       "                        backend mode, which is read-only unless --db_import is\n",
       "                        also passed.\n",
       "  --db_import           [experimental] enables DB read-and-import mode, which\n",
       "                        in combination with --logdir imports event files into\n",
       "                        a DB backend on the fly. The backing DB is temporary\n",
       "                        unless --db is also passed to specify a DB path to\n",
       "                        use.\n",
       "  --inspect             Prints digests of event files to command line. This is\n",
       "                        useful when no data is shown on TensorBoard, or the\n",
       "                        data shown looks weird. Must specify one of `logdir`\n",
       "                        or `event_file` flag. Example usage: `tensorboard\n",
       "                        --inspect --logdir mylogdir --tag loss` See tensorboar\n",
       "                        d/backend/event_processing/event_file_inspector.py for\n",
       "                        more info.\n",
       "  --version_tb          Prints the version of Tensorboard\n",
       "  --tag TAG             tag to query for; used with --inspect\n",
       "  --event_file PATH     The particular event file to query for. Only used if\n",
       "                        --inspect is present and --logdir is not specified.\n",
       "  --path_prefix PATH    An optional, relative prefix to the path, e.g.\n",
       "                        \"/path/to/tensorboard\". resulting in the new base url\n",
       "                        being located at localhost:6006/path/to/tensorboard\n",
       "                        under default settings. A leading slash is required\n",
       "                        when specifying the path_prefix. A trailing slash is\n",
       "                        optional and has no effect. The path_prefix can be\n",
       "                        leveraged for path based routing of an ELB when the\n",
       "                        website base_url is not available e.g.\n",
       "                        \"example.site.com/path/to/tensorboard/\".\n",
       "  --window_title TEXT   changes title of browser window\n",
       "  --max_reload_threads COUNT\n",
       "                        The max number of threads that TensorBoard can use to\n",
       "                        reload runs. Not relevant for db read-only mode. Each\n",
       "                        thread reloads one run at a time. (default: 1)\n",
       "  --reload_interval SECONDS\n",
       "                        How often the backend should load more data, in\n",
       "                        seconds. Set to 0 to load just once at startup. Must\n",
       "                        be non-negative. (default: 5.0)\n",
       "  --reload_task TYPE    [experimental] The mechanism to use for the background\n",
       "                        data reload task. The default \"auto\" option will\n",
       "                        conditionally use threads for legacy reloading and a\n",
       "                        child process for DB import reloading. The \"process\"\n",
       "                        option is only useful with DB import mode. The\n",
       "                        \"blocking\" option will block startup until reload\n",
       "                        finishes, and requires --load_interval=0. (default:\n",
       "                        auto)\n",
       "  --reload_multifile BOOL\n",
       "                        [experimental] If true, this enables experimental\n",
       "                        support for continuously polling multiple event files\n",
       "                        in each run directory for newly appended data (rather\n",
       "                        than only polling the last event file). Event files\n",
       "                        will only be polled as long as their most recently\n",
       "                        read data is newer than the threshold defined by\n",
       "                        --reload_multifile_inactive_secs, to limit resource\n",
       "                        usage. Beware of running out of memory if the logdir\n",
       "                        contains many active event files. (default: false)\n",
       "  --reload_multifile_inactive_secs SECONDS\n",
       "                        [experimental] Configures the age threshold in seconds\n",
       "                        at which an event file that has no event wall time\n",
       "                        more recent than that will be considered an inactive\n",
       "                        file and no longer polled (to limit resource usage).\n",
       "                        If set to -1, no maximum age will be enforced, but\n",
       "                        beware of running out of memory and heavier filesystem\n",
       "                        read traffic. If set to 0, this reverts to the older\n",
       "                        last-file-only polling strategy (akin to\n",
       "                        --reload_multifile=false). (default: 86400 - intended\n",
       "                        to ensure an event file remains active if it receives\n",
       "                        new data at least once per 24 hour period)\n",
       "  --generic_data TYPE   [experimental] Hints whether plugins should read from\n",
       "                        generic data provider infrastructure. For plugins that\n",
       "                        support only the legacy multiplexer APIs or only the\n",
       "                        generic data APIs, this option has no effect. The\n",
       "                        \"auto\" option enables this only for plugins that are\n",
       "                        considered to have stable support for generic data\n",
       "                        providers. (default: auto)\n",
       "  --samples_per_plugin SAMPLES_PER_PLUGIN\n",
       "                        An optional comma separated list of\n",
       "                        plugin_name=num_samples pairs to explicitly specify\n",
       "                        how many samples to keep per tag for that plugin. For\n",
       "                        unspecified plugins, TensorBoard randomly downsamples\n",
       "                        logged summaries to reasonable values to prevent out-\n",
       "                        of-memory errors for long running jobs. This flag\n",
       "                        allows fine control over that downsampling. Note that\n",
       "                        if a plugin is not specified in this list, a plugin-\n",
       "                        specific default number of samples will be enforced.\n",
       "                        (for example, 10 for images, 500 for histograms, and\n",
       "                        1000 for scalars). Most users should not need to set\n",
       "                        this flag.\n",
       "  --detect_file_replacement BOOL\n",
       "                        [experimental] If true, this enables experimental\n",
       "                        support for detecting when event files are replaced\n",
       "                        with new versions that contain additional data. This\n",
       "                        is not needed in the normal case where new data is\n",
       "                        either appended to an existing file or written to a\n",
       "                        brand new file, but it arises, for example, when using\n",
       "                        rsync without the --inplace option, in which new\n",
       "                        versions of the original file are first written to a\n",
       "                        temporary file, then swapped into the final location.\n",
       "                        This option is currently incompatible with\n",
       "                        --load_fast=true, and if passed will disable fast-\n",
       "                        loading mode. (default: false)\n",
       "\n",
       "profile plugin:\n",
       "  --master_tpu_unsecure_channel ADDR\n",
       "                        IP address of \"master tpu\", used for getting streaming\n",
       "                        trace data through tpu profiler analysis grpc. The\n",
       "                        grpc channel is not secured."
      ]
     },
     "metadata": {},
     "output_type": "display_data"
    }
   ],
   "source": [
    "%tensorboard --help"
   ]
  },
  {
   "cell_type": "code",
   "execution_count": null,
   "metadata": {},
   "outputs": [],
   "source": [
    "def get_dataloader(self, train): \n",
    "    features = [self.x[i : self.T-self.tau+i] for i in range(self.tau)] #shape: (tau, n-T+tau); range(0,3): 0,1,2\n",
    "    self.features = torch.stack(features, 1) #shape: (n-T+tau, tau)\n",
    "    self.labels = self.x[self.tau:].reshape((-1, 1)) #shape: (n-T+tau, 1)\n",
    "    i = slice(0, self.num_train) if train else slice(self.num_train, None) #slice(start, end, step)的作用:\n",
    "    return self.get_tensorloader([self.features, self.labels], train, i)"
   ]
  },
  {
   "cell_type": "code",
   "execution_count": null,
   "metadata": {},
   "outputs": [
    {
     "name": "stdout",
     "output_type": "stream",
     "text": [
      "tensor([[ 0.3133, -0.6973,  0.4610, -1.3551],\n",
      "        [-0.1408, -0.8418,  0.6508, -1.1864],\n",
      "        [-0.3327,  0.4809, -0.3594,  2.5382]])\n"
     ]
    },
    {
     "data": {
      "text/plain": [
       "tensor([[[ 0.3133, -0.6973,  0.4610, -1.3551],\n",
       "         [ 0.3133, -0.6973,  0.4610, -1.3551]],\n",
       "\n",
       "        [[-0.1408, -0.8418,  0.6508, -1.1864],\n",
       "         [-0.1408, -0.8418,  0.6508, -1.1864]],\n",
       "\n",
       "        [[-0.3327,  0.4809, -0.3594,  2.5382],\n",
       "         [-0.3327,  0.4809, -0.3594,  2.5382]]])"
      ]
     },
     "execution_count": 10,
     "metadata": {},
     "output_type": "execute_result"
    }
   ],
   "source": [
    "import torch\n",
    "x=torch.randn(3,4)\n",
    "print(x)\n",
    "torch.stack((x,x),1) #shape: (3,2,4)"
   ]
  },
  {
   "cell_type": "code",
   "execution_count": null,
   "metadata": {},
   "outputs": [
    {
     "data": {
      "text/plain": [
       "tensor([[[ 0.3133,  0.3133],\n",
       "         [-0.6973, -0.6973],\n",
       "         [ 0.4610,  0.4610],\n",
       "         [-1.3551, -1.3551]],\n",
       "\n",
       "        [[-0.1408, -0.1408],\n",
       "         [-0.8418, -0.8418],\n",
       "         [ 0.6508,  0.6508],\n",
       "         [-1.1864, -1.1864]],\n",
       "\n",
       "        [[-0.3327, -0.3327],\n",
       "         [ 0.4809,  0.4809],\n",
       "         [-0.3594, -0.3594],\n",
       "         [ 2.5382,  2.5382]]])"
      ]
     },
     "execution_count": 11,
     "metadata": {},
     "output_type": "execute_result"
    }
   ],
   "source": [
    "torch.stack((x,x),2) #shape: (3,4,2)"
   ]
  }
 ],
 "metadata": {
  "kernelspec": {
   "display_name": "pytorch_python3128",
   "language": "python",
   "name": "python3"
  },
  "language_info": {
   "codemirror_mode": {
    "name": "ipython",
    "version": 3
   },
   "file_extension": ".py",
   "mimetype": "text/x-python",
   "name": "python",
   "nbconvert_exporter": "python",
   "pygments_lexer": "ipython3",
   "version": "3.12.8"
  }
 },
 "nbformat": 4,
 "nbformat_minor": 2
}
