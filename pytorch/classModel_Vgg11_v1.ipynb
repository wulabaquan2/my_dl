{
 "cells": [
  {
   "cell_type": "markdown",
   "metadata": {},
   "source": [
    "### 简介\n",
    "用Vgg-11训练fashionMNist数据集\n",
    "调整Vgg-11模型\n",
    "    1.5个卷积块的输出特征个数缩小至1/4*N"
   ]
  },
  {
   "cell_type": "code",
   "execution_count": 2,
   "metadata": {},
   "outputs": [],
   "source": [
    "import torch\n",
    "import pytorch_lightning as pl"
   ]
  },
  {
   "cell_type": "markdown",
   "metadata": {},
   "source": [
    "### 数据集加载"
   ]
  },
  {
   "cell_type": "code",
   "execution_count": 3,
   "metadata": {},
   "outputs": [],
   "source": [
    "from torchvision.datasets import FashionMNIST\n",
    "from torchvision import transforms\n",
    "\n",
    "class DataConfiguration:\n",
    "    def __init__(self, batch_size, num_workers, pin_memory):\n",
    "        self.batch_size = batch_size\n",
    "        self.num_workers = num_workers  \n",
    "        self.pin_memory = pin_memory    # True if GPU is available \n",
    "\n",
    "class LitLoadData_FashionMNist(pl.LightningDataModule):\n",
    "   \n",
    "    def __init__(self, data_config):\n",
    "        super().__init__()\n",
    "        self.data_config = data_config\n",
    "\n",
    "    def prepare_data(self):\n",
    "        # Download the FashionMNIST dataset if not already downloaded\n",
    "        FashionMNIST(root=\"../data\", train=True, download=True)\n",
    "        FashionMNIST(root=\"../data\", train=False, download=True) \n",
    "\n",
    "    def setup(self, stage=None):\n",
    "        # Transformations to apply to the data\n",
    "        transform = transforms.Compose([\n",
    "            transforms.Resize((224, 224)),  # Resize the images to 224x224\n",
    "            transforms.ToTensor(),\n",
    "            transforms.Normalize((0.5,), (0.5,))    # Normalize the data to the range [-1, 1]\n",
    "        ])\n",
    "\n",
    "        # Load the FashionMNIST dataset\n",
    "        self.train_dataset = FashionMNIST(root=\"../data\", train=True, transform=transform)\n",
    "        self.val_dataset = FashionMNIST(root=\"../data\", train=False, transform=transform)\n",
    "\n",
    "    def train_dataloader(self):\n",
    "        return torch.utils.data.DataLoader(\n",
    "            self.train_dataset,\n",
    "            batch_size=self.data_config.batch_size,\n",
    "            num_workers=self.data_config.num_workers,\n",
    "            pin_memory=self.data_config.pin_memory, # \n",
    "            persistent_workers=True,\n",
    "            shuffle=True\n",
    "        )\n",
    "\n",
    "    def val_dataloader(self):\n",
    "        return torch.utils.data.DataLoader(\n",
    "            self.val_dataset,\n",
    "            batch_size=self.data_config.batch_size,\n",
    "            num_workers=self.data_config.num_workers,\n",
    "            pin_memory=self.data_config.pin_memory,\n",
    "            persistent_workers=True,\n",
    "            shuffle=False\n",
    "        )\n"
   ]
  },
  {
   "cell_type": "markdown",
   "metadata": {},
   "source": [
    "### 模型定义"
   ]
  },
  {
   "cell_type": "code",
   "execution_count": 6,
   "metadata": {},
   "outputs": [],
   "source": [
    "\n",
    "\n",
    "from typing import Any\n",
    "\n",
    "class TrainingConfiguration:\n",
    "    def __init__(self, learning_rate,optimizer):\n",
    "        self.learning_rate = learning_rate\n",
    "        self.optimizer=optimizer\n",
    "\n",
    "def make_layers(cfg, batch_norm=False):\n",
    "        layers = []\n",
    "        in_channels = 1\n",
    "        for v in cfg:\n",
    "            if v == 'M':\n",
    "                layers += [torch.nn.MaxPool2d(kernel_size=2, stride=2)] \n",
    "            else:\n",
    "                conv2d = torch.nn.Conv2d(in_channels, v, kernel_size=3, padding=1)\n",
    "                if batch_norm:\n",
    "                    layers += [conv2d, torch.nn.BatchNorm2d(v), torch.nn.ReLU(inplace=True)]\n",
    "                else:\n",
    "                    layers += [conv2d, torch.nn.ReLU(inplace=True)]\n",
    "                in_channels = v\n",
    "        return torch.nn.Sequential(*layers)\n",
    "    \n",
    "\n",
    "#vgg卷积块定义\n",
    "class LitVgg11Model(pl.LightningModule):   \n",
    "    def __init__(self, training_config):\n",
    "        super().__init__()\n",
    "        self.training_config = training_config \n",
    "        vgg_convlayers=[64, 'M', 128, 'M', 256, 256, 'M', 512, 512, 'M', 512, 512, 'M'] #标准的vgg11卷积块结构\n",
    "        #fashionMnist相对于vgg11的训练集ImageNet图像过于简单,不需要太多特征\n",
    "        vgg_convlayers = [int(i//4) if isinstance(i, int) else i for i in vgg_convlayers]\n",
    "        \n",
    "        self.model=torch.nn.Sequential(\n",
    "            make_layers(vgg_convlayers),\n",
    "            torch.nn.Flatten(),\n",
    "            torch.nn.Linear(128*7*7, 4096),    \n",
    "            torch.nn.ReLU(inplace=True),\n",
    "            torch.nn.Dropout(),\n",
    "            torch.nn.Linear(4096, 4096),\n",
    "            torch.nn.ReLU(inplace=True),\n",
    "            torch.nn.Dropout(),\n",
    "            torch.nn.Linear(4096, 10)\n",
    "        )\n",
    "\n",
    "              \n",
    "    def forward(self, x):\n",
    "        return self.model(x)\n",
    "    \n",
    "    def training_step(self, batch, batch_idx):\n",
    "        x, y = batch\n",
    "        logits = self(x)\n",
    "        loss = torch.nn.functional.cross_entropy(logits, y)\n",
    "        self.log(\"train_loss\", loss, on_step=True, on_epoch=True, prog_bar=True, logger=True)\n",
    "        self.log(\"train_acc\", torch.sum(y == torch.argmax(logits, dim=1)).item() / len(y), prog_bar=True, logger=True,on_epoch=True)       \n",
    "        return loss\n",
    "    \n",
    "    def validation_step(self, batch, batch_idx):\n",
    "        x, y = batch\n",
    "        logits = self(x)\n",
    "        loss = torch.nn.functional.cross_entropy(logits, y)\n",
    "        self.log(\"val_loss\", loss, prog_bar=True, logger=True) \n",
    "        self.log(\"val_acc\", torch.sum(y == torch.argmax(logits, dim=1)).item() / len(y), prog_bar=True, logger=True)       \n",
    "        return loss\n",
    "    \n",
    "    def configure_optimizers(self):\n",
    "        if self.training_config.optimizer==\"Adam\":\n",
    "            optimizer = torch.optim.Adam(self.parameters(), lr=self.training_config.learning_rate)\n",
    "        elif self.training_config.optimizer==\"SGD\":\n",
    "            optimizer = torch.optim.SGD(self.parameters(), lr=self.training_config.learning_rate)\n",
    "        return optimizer\n",
    "    \n",
    "    \n",
    "    "
   ]
  },
  {
   "cell_type": "markdown",
   "metadata": {},
   "source": [
    "### 工作流程"
   ]
  },
  {
   "cell_type": "code",
   "execution_count": 7,
   "metadata": {},
   "outputs": [
    {
     "name": "stderr",
     "output_type": "stream",
     "text": [
      "GPU available: True (cuda), used: True\n",
      "TPU available: False, using: 0 TPU cores\n",
      "HPU available: False, using: 0 HPUs\n",
      "LOCAL_RANK: 0 - CUDA_VISIBLE_DEVICES: [0]\n",
      "\n",
      "  | Name  | Type       | Params | Mode \n",
      "---------------------------------------------\n",
      "0 | model | Sequential | 43.1 M | train\n",
      "---------------------------------------------\n",
      "43.1 M    Trainable params\n",
      "0         Non-trainable params\n",
      "43.1 M    Total params\n",
      "172.373   Total estimated model params size (MB)\n",
      "31        Modules in train mode\n",
      "0         Modules in eval mode\n"
     ]
    },
    {
     "name": "stdout",
     "output_type": "stream",
     "text": [
      "Epoch 9: 100%|██████████| 469/469 [01:59<00:00,  3.91it/s, v_num=0, train_loss_step=0.267, train_acc_step=0.917, val_loss=0.265, val_acc=0.900, train_loss_epoch=0.241, train_acc_epoch=0.910]  "
     ]
    },
    {
     "name": "stderr",
     "output_type": "stream",
     "text": [
      "`Trainer.fit` stopped: `max_epochs=10` reached.\n"
     ]
    },
    {
     "name": "stdout",
     "output_type": "stream",
     "text": [
      "Epoch 9: 100%|██████████| 469/469 [02:14<00:00,  3.49it/s, v_num=0, train_loss_step=0.267, train_acc_step=0.917, val_loss=0.265, val_acc=0.900, train_loss_epoch=0.241, train_acc_epoch=0.910]\n",
      "CPU times: total: 21min 34s\n",
      "Wall time: 21min 24s\n"
     ]
    }
   ],
   "source": [
    "%%time \n",
    "class TrainerConfiguration:\n",
    "    max_epochs: int \n",
    "    def __init__(self, max_epochs):\n",
    "        self.max_epochs = max_epochs\n",
    "\n",
    "if __name__ == '__main__': \n",
    "    data_config = DataConfiguration(batch_size=128, num_workers=2, pin_memory=torch.cuda.is_available())\n",
    "    training_config = TrainingConfiguration(learning_rate=0.05, optimizer=\"SGD\")\n",
    "    trainer_config = TrainerConfiguration(max_epochs=10)\n",
    "\n",
    "    model = LitVgg11Model(training_config)\n",
    "    data = LitLoadData_FashionMNist(data_config)\n",
    "\n",
    "    #add tensorboardLogger\n",
    "    tb_logger=pl.loggers.TensorBoardLogger('tensorBoard-logs/',name='classModel_vgg11_v1',default_hp_metric=False)\n",
    "    \n",
    "    #add modelcheckpoint\n",
    "    checkpoint_callback=pl.callbacks.ModelCheckpoint(\n",
    "        monitor='val_acc',\n",
    "        dirpath='checkPoint-logs/classModel_vgg11_v1',\n",
    "        filename='classModel_vgg11_v1_{epoch:02d}_{val_acc:.2f}',\n",
    "        #save_top_k=3, # save the top 3 models\n",
    "        mode='max', \n",
    "    )\n",
    "\n",
    "    trainer=pl.Trainer(\n",
    "        max_epochs=trainer_config.max_epochs, \n",
    "        logger=tb_logger, \n",
    "        callbacks=[checkpoint_callback],\n",
    "        accelerator='gpu',\n",
    "        enable_model_summary=True \n",
    "        )\n",
    "    \n",
    "    trainer.fit(model, data)"
   ]
  }
 ],
 "metadata": {
  "kernelspec": {
   "display_name": "pytorch_python3128",
   "language": "python",
   "name": "python3"
  },
  "language_info": {
   "codemirror_mode": {
    "name": "ipython",
    "version": 3
   },
   "file_extension": ".py",
   "mimetype": "text/x-python",
   "name": "python",
   "nbconvert_exporter": "python",
   "pygments_lexer": "ipython3",
   "version": "3.12.8"
  }
 },
 "nbformat": 4,
 "nbformat_minor": 2
}
