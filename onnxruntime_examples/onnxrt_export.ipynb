{
 "cells": [
  {
   "cell_type": "code",
   "execution_count": 1,
   "metadata": {},
   "outputs": [
    {
     "name": "stderr",
     "output_type": "stream",
     "text": [
      "d:\\condaEnv\\neurips\\lib\\site-packages\\torchvision\\models\\_utils.py:208: UserWarning: The parameter 'pretrained' is deprecated since 0.13 and may be removed in the future, please use 'weights' instead.\n",
      "  warnings.warn(\n",
      "d:\\condaEnv\\neurips\\lib\\site-packages\\torchvision\\models\\_utils.py:223: UserWarning: Arguments other than a weight enum or `None` for 'weights' are deprecated since 0.13 and may be removed in the future. The current behavior is equivalent to passing `weights=ResNet50_Weights.IMAGENET1K_V1`. You can also use `weights=ResNet50_Weights.DEFAULT` to get the most up-to-date weights.\n",
      "  warnings.warn(msg)\n"
     ]
    },
    {
     "name": "stdout",
     "output_type": "stream",
     "text": [
      "ResNet18 模型已成功导出为 resnet18.onnx\n"
     ]
    }
   ],
   "source": [
    "import torch\n",
    "\n",
    "import torchvision.models as models\n",
    "\n",
    "# 加载预训练的ResNet模型\n",
    "resnet18 = models.resnet50(pretrained=True)\n",
    "resnet18.eval()\n",
    "\n",
    "# 创建一个示例输入张量\n",
    "dummy_input = torch.randn(1, 3, 224, 224)\n",
    "\n",
    "# 导出模型为ONNX格式\n",
    "torch.onnx.export(resnet18, dummy_input, \"resnet18.onnx\", \n",
    "                  input_names=['input'], output_names=['output'], \n",
    "                  dynamic_axes={'input': {0: 'batch_size'}, 'output': {0: 'batch_size'}})\n",
    "\n",
    "print(\"ResNet18 模型已成功导出为 resnet18.onnx\")"
   ]
  }
 ],
 "metadata": {
  "kernelspec": {
   "display_name": "Python 3",
   "language": "python",
   "name": "python3"
  },
  "language_info": {
   "codemirror_mode": {
    "name": "ipython",
    "version": 3
   },
   "file_extension": ".py",
   "mimetype": "text/x-python",
   "name": "python",
   "nbconvert_exporter": "python",
   "pygments_lexer": "ipython3",
   "version": "3.9.21"
  }
 },
 "nbformat": 4,
 "nbformat_minor": 2
}
